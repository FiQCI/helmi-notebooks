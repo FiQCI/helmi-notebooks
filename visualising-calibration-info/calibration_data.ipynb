{
 "cells": [
  {
   "cell_type": "markdown",
   "metadata": {},
   "source": [
    "# Visualising Calibration data\n",
    "\n",
    "This example shows how we can query the calibration information of Helmi and visualise it using matplotlib. However, we need to understand what calibration is and why the calibration information is important\n"
   ]
  },
  {
   "cell_type": "markdown",
   "metadata": {},
   "source": [
    "## What is Calibration\n",
    "Calibration is an important process that involves fine-tuning the parameters of a quantum computer to ensure the stability and accuracy of quantum operations. The calibration procedures varies depending on the architecture of the quantum computers, the type of qubits used and the error correction techniques implemented. Generally, Calibration may involve the following\n",
    "- Gate calibration - adjusting and measuring the pulse duration, amplitudes and fidelity of the quantum gates, \n",
    "- Noise Mitigation - identifying and mitigating environmental noise,\n",
    "- Qubit Calibration - measuring and understanding the coherence times of the qubits. The coherence time is a measure of how long a qubit can retain its information."
   ]
  },
  {
   "cell_type": "markdown",
   "metadata": {},
   "source": [
    "## Why is Calibration Important\n",
    "\n",
    "Quantum computers, unlike their classical counterparts,  operate on the principles of quantum mechanics, as a result they are highly sensitive to environmental interference ( such as changes in temperature, electromagnectic fields, vibrations) and hardware limitations or imperfections. Calibration ensures that the system is stable and can return accurate results. \n",
    "\n",
    "The result from the calibration data provides users with information such as coherence times and fidelity of the gates which allows them to optimize their quantum circuits. Overall, it gives an idea of the current status of Helmi. Here is a brief description of figures received from the calibration data: [Figures-of-merit](https://docs.csc.fi/computing/quantum-computing/helmi/running-on-helmi/#figures-of-merit)."
   ]
  },
  {
   "cell_type": "markdown",
   "metadata": {},
   "source": [
    "## Setup\n",
    "\n",
    "This notebook uses the following requirements\n",
    "\n",
    "```text\n",
    "qiskit-iqm==10.4 (can easily be switched with cirq-iqm)\n",
    "iqm-client==13.0\n",
    "matplotlib\n",
    "```"
   ]
  },
  {
   "cell_type": "code",
   "execution_count": null,
   "metadata": {},
   "outputs": [],
   "source": [
    "import os\n",
    "import json\n",
    "import requests\n",
    "import matplotlib.pyplot as plt\n",
    "from iqm_client import IQMClient\n",
    "from qiskit_iqm import IQMProvider"
   ]
  },
  {
   "cell_type": "markdown",
   "metadata": {},
   "source": [
    "Connect to the backend"
   ]
  },
  {
   "cell_type": "code",
   "execution_count": null,
   "metadata": {},
   "outputs": [],
   "source": [
    "provider = IQMProvider(\"https://qc.vtt.fi/cocos\")\n",
    "backend = provider.get_backend()"
   ]
  },
  {
   "cell_type": "markdown",
   "metadata": {},
   "source": [
    "## Querying Calibration Data\n",
    "\n",
    "Here we define a function that has 3 parameters. \n",
    "\n",
    "- client\n",
    "- calibration_set_id: ID of the calibration set to use. This is optional and the function will by default query the latest calibration set if the id is not provided.\n",
    "- filename: if provided, it specifies the file to save the response\n"
   ]
  },
  {
   "cell_type": "code",
   "execution_count": null,
   "metadata": {},
   "outputs": [],
   "source": [
    "def get_calibration_data(client: IQMClient, calibration_set_id=None, filename: str = None):\n",
    "    headers = {'User-Agent': client._signature}\n",
    "    bearer_token = client._get_bearer_token()\n",
    "    headers['Authorization'] = bearer_token if bearer_token else ''\n",
    "    url = os.path.join(client._base_url, 'calibration')\n",
    "    if calibration_set_id:\n",
    "        url = os.path.join(url, calibration_set_id)\n",
    "    response = requests.get(url, headers=headers)\n",
    "    \n",
    "    # returns the status of the response\n",
    "    response.raise_for_status()\n",
    "    data = response.json()\n",
    "    data_str = json.dumps(data, indent=4)\n",
    "\n",
    "    if filename:\n",
    "        with open(filename, 'w') as f:\n",
    "            f.write(data_str)\n",
    "        print(f\"Data saved to {filename}\")\n",
    "\n",
    "    return data"
   ]
  },
  {
   "cell_type": "code",
   "execution_count": null,
   "metadata": {},
   "outputs": [],
   "source": [
    "calibration_data = get_calibration_data(backend.client)"
   ]
  },
  {
   "cell_type": "markdown",
   "metadata": {},
   "source": [
    "We can print the calibration data that our function returns"
   ]
  },
  {
   "cell_type": "code",
   "execution_count": null,
   "metadata": {},
   "outputs": [],
   "source": [
    "print(calibration_data)"
   ]
  },
  {
   "cell_type": "markdown",
   "metadata": {},
   "source": [
    "The printout give a lot of values that might be difficult to understand at a glance. We can use the quality metrics set(figures of merit) along with matplotlib to visualise the calibration information. \n",
    "\n",
    "The plot_metrics function iterates over a json data and maps the keys to the correct metric."
   ]
  },
  {
   "cell_type": "code",
   "execution_count": null,
   "metadata": {},
   "outputs": [],
   "source": [
    "def plot_metrics(metric: str,\n",
    "                 title: str,\n",
    "                 ylabel: str,\n",
    "                 xlabel: str,\n",
    "                 data: dict,\n",
    "                 limits: list = []\n",
    "                 ):\n",
    "    values = []\n",
    "    labels = []\n",
    "    # Iterate over the JSON data and collect values and labels based on the metric\n",
    "    for key, metric_data in data['metrics'].items():\n",
    "        if key.endswith(metric):\n",
    "            values.append(float(metric_data['value']))\n",
    "            # Extract the qubit label from the key\n",
    "            labels.append(key.split('.')[0])\n",
    "\n",
    "    # Check if values were found for the given metric\n",
    "    if not values:\n",
    "        return f\"{metric} not in quality metrics set!\"\n",
    "\n",
    "    # Set the width and gap between the bars\n",
    "    bar_width = 0.2\n",
    "\n",
    "    # Calculate the positions of the bars\n",
    "    positions = range(len(values))\n",
    "\n",
    "    # Plot the values with labels\n",
    "    plt.bar(positions, values, width=bar_width, tick_label=labels)\n",
    "\n",
    "    if len(limits) == 2:\n",
    "        plt.ylim(limits)\n",
    "\n",
    "    plt.grid(axis='y')\n",
    "    plt.xlabel(xlabel)\n",
    "    plt.ylabel(ylabel)\n",
    "    plt.title(title)\n",
    "    plt.xticks(rotation=90)\n",
    "    plt.show()\n"
   ]
  },
  {
   "cell_type": "markdown",
   "metadata": {},
   "source": [
    "Here we call the plot_metrics function with the calibration data as a parameter"
   ]
  },
  {
   "cell_type": "code",
   "execution_count": null,
   "metadata": {},
   "outputs": [],
   "source": [
    "plot_metrics(metric='cz_gate_fidelity', title='CZ Gate Fidelities',\n",
    "             xlabel='Qubit pairs', ylabel='Fidelities', data=calibration_data, limits=[0.6,1])"
   ]
  },
  {
   "cell_type": "markdown",
   "metadata": {},
   "source": [
    "## Summary\n",
    "\n",
    "In this notebook, we have briefly introduced the concept of calibration, we have also demonstrated how to query calibration data from Helmi and visualise it using matplotlib."
   ]
  },
  {
   "cell_type": "markdown",
   "metadata": {},
   "source": [
    "## Additional Reading\n",
    "\n",
    "- [Superconducting qubits](https://pennylane.ai/qml/demos/tutorial_sc_qubits).\n",
    "- [Calibration experiments with qiskit](https://qiskit.org/ecosystem/experiments/tutorials/calibrations.html).\n",
    "- [How to automate calibration](https://docs.q-ctrl.com/boulder-opal/user-guides/how-to-automate-calibration-of-control-hardware)."
   ]
  }
 ],
 "metadata": {
  "language_info": {
   "name": "python"
  },
  "orig_nbformat": 4
 },
 "nbformat": 4,
 "nbformat_minor": 2
}
