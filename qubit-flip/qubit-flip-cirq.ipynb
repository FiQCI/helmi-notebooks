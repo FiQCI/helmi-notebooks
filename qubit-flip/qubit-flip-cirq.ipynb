{
 "cells": [
  {
   "cell_type": "markdown",
   "metadata": {},
   "source": [
    "# Simple Qubit Flipping Example\n",
    "\n",
    "This example explains how we can flip one or more qubits using cirq"
   ]
  },
  {
   "cell_type": "code",
   "execution_count": null,
   "metadata": {},
   "outputs": [],
   "source": [
    "import cirq\n",
    "import numpy as np\n",
    "from cirq_iqm.iqm_sampler import IQMSampler"
   ]
  },
  {
   "cell_type": "markdown",
   "metadata": {},
   "source": [
    "To connect to Helmi backend we pass the cocos url as an argument to the IQMSampler  "
   ]
  },
  {
   "cell_type": "code",
   "execution_count": null,
   "metadata": {},
   "outputs": [],
   "source": [
    "sampler = IQMSampler(\"https://qc.vtt.fi/cocos\")"
   ]
  },
  {
   "cell_type": "markdown",
   "metadata": {},
   "source": [
    "## Defining our Functions"
   ]
  },
  {
   "cell_type": "markdown",
   "metadata": {},
   "source": [
    "First we define a function that helps us calculate the probability of measuring a desired state"
   ]
  },
  {
   "cell_type": "code",
   "execution_count": null,
   "metadata": {},
   "outputs": [],
   "source": [
    "def calculate_success_probability(counts: dict, shots: int, desired_state: str) -> float:\n",
    "    \"\"\"\n",
    "    Calculate the success probability from the job results.\n",
    "    \"\"\"\n",
    "    success_counts = counts.get(desired_state, 0)\n",
    "    return success_counts / shots"
   ]
  },
  {
   "cell_type": "markdown",
   "metadata": {},
   "source": [
    "Next we create a helper function to convert the measured bits into a suitable format"
   ]
  },
  {
   "cell_type": "code",
   "execution_count": null,
   "metadata": {},
   "outputs": [],
   "source": [
    "def fold_func(x: np.ndarray) -> str:\n",
    "    \"\"\"Fold the measured bit arrays into strings.\"\"\"\n",
    "    return ''.join(map(lambda x: chr(x + ord('0')), x))"
   ]
  },
  {
   "cell_type": "markdown",
   "metadata": {},
   "source": [
    "We can now create our circuits. The `single_flip_circuit` applies an X gate to a single qubit to flip it from |0> to |1> and returns the correct mapping."
   ]
  },
  {
   "cell_type": "code",
   "execution_count": null,
   "metadata": {},
   "outputs": [],
   "source": [
    "def single_flip_circuit(qubit: int):\n",
    "    qubit = cirq.NamedQubit(f'QB{qubit}')\n",
    "    circuit = cirq.Circuit()\n",
    "    circuit.append(cirq.X(qubit))\n",
    "    circuit.append(cirq.measure(qubit, key='M'))\n",
    "    return circuit"
   ]
  },
  {
   "cell_type": "markdown",
   "metadata": {},
   "source": [
    "The `flip_circuit` function creates a quantum circuit with X-gates applied to every qubit"
   ]
  },
  {
   "cell_type": "code",
   "execution_count": null,
   "metadata": {},
   "outputs": [],
   "source": [
    "def flip_circuit(qubits: list[int]):\n",
    "    qubits = [cirq.NamedQubit(f'QB{i}') for i in qubits]\n",
    "    circuit = cirq.Circuit()\n",
    "    for qubit in qubits:\n",
    "        circuit.append(cirq.X(qubit))\n",
    "    circuit.append(cirq.measure(*qubits, key='M'))\n",
    "    return circuit"
   ]
  },
  {
   "cell_type": "markdown",
   "metadata": {},
   "source": [
    "This is a helper function for measuring our circuit"
   ]
  },
  {
   "cell_type": "code",
   "execution_count": null,
   "metadata": {},
   "outputs": [],
   "source": [
    "def measure_circuit(circuits, shots: int, desired_state: str):\n",
    "    for i, circuit in enumerate(circuits):\n",
    "        result = sampler.run(circuit, repetitions=shots)\n",
    "        counts = result.histogram(key='M', fold_func=fold_func)\n",
    "        success_probability = calculate_success_probability(\n",
    "                counts, shots, desired_state,\n",
    "            )\n",
    "        print(\"\\nCounts:\", counts)\n",
    "        print(f\"Success probability: {success_probability * 100:.2f}%\")"
   ]
  },
  {
   "cell_type": "markdown",
   "metadata": {},
   "source": [
    "`flip_single_qubit` and `flip_qubits` are functions to measure our circuits"
   ]
  },
  {
   "cell_type": "code",
   "execution_count": null,
   "metadata": {},
   "outputs": [],
   "source": [
    "def flip_single_qubit(qubits: str, desired_state: str = '1', shots: int = 1000) -> None:\n",
    "    circuits = []\n",
    "    print(\"\\nFlip one qubit at a time\\n\")\n",
    "    for qb in qubits:\n",
    "        circuit = single_flip_circuit(qb)\n",
    "        circuits.append(circuit)\n",
    "    return measure_circuit(circuits, shots, desired_state)"
   ]
  },
  {
   "cell_type": "code",
   "execution_count": null,
   "metadata": {},
   "outputs": [],
   "source": [
    "flip_single_qubit('1', 2000)"
   ]
  },
  {
   "cell_type": "code",
   "execution_count": null,
   "metadata": {},
   "outputs": [],
   "source": [
    "def flip_qubits(qubits: list[int]| None = None, desired_state: str = '11111', shots: int = 1000) -> None:\n",
    "    circuits = []\n",
    "    print(\"\\nFlip all qubits \\n\")\n",
    "    qubits_list = qubits or list(range(1, 6))\n",
    "    print(qubits_list)\n",
    "    circuit = flip_circuit(qubits_list)\n",
    "    circuits.append(circuit)\n",
    "    return measure_circuit(circuits, shots, desired_state)"
   ]
  },
  {
   "cell_type": "code",
   "execution_count": null,
   "metadata": {},
   "outputs": [],
   "source": [
    "flip_qubits([1, 2, 3, 4, 5])"
   ]
  },
  {
   "cell_type": "markdown",
   "metadata": {},
   "source": [
    "## Summary\n",
    "\n",
    "In this notebook we have demonstrated how we can flip one or more bits on Helmi using cirq-on-iqm.\n",
    "\n"
   ]
  }
 ],
 "metadata": {
  "kernelspec": {
   "display_name": "pennyenv",
   "language": "python",
   "name": "python3"
  },
  "language_info": {
   "name": "python",
   "version": "3.11.5"
  },
  "orig_nbformat": 4
 },
 "nbformat": 4,
 "nbformat_minor": 2
}
